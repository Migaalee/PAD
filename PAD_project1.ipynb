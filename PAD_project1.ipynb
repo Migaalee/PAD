{
  "nbformat": 4,
  "nbformat_minor": 0,
  "metadata": {
    "colab": {
      "name": "PAD_project1.ipynb",
      "provenance": [],
      "toc_visible": true,
      "include_colab_link": true
    },
    "kernelspec": {
      "name": "python3",
      "display_name": "Python 3"
    },
    "language_info": {
      "name": "python"
    }
  },
  "cells": [
    {
      "cell_type": "markdown",
      "metadata": {
        "id": "view-in-github",
        "colab_type": "text"
      },
      "source": [
        "<a href=\"https://colab.research.google.com/github/Migaalee/PAD/blob/main/PAD_project1.ipynb\" target=\"_parent\"><img src=\"https://colab.research.google.com/assets/colab-badge.svg\" alt=\"Open In Colab\"/></a>"
      ]
    },
    {
      "cell_type": "markdown",
      "metadata": {
        "id": "BBOnkT8C3n75"
      },
      "source": [
        "# 1. Project description\n",
        "\n",
        "## Explanation of the dataset."
      ]
    },
    {
      "cell_type": "markdown",
      "metadata": {
        "id": "l5dr-t1fegkD"
      },
      "source": [
        "### Upload data and setup "
      ]
    },
    {
      "cell_type": "markdown",
      "metadata": {
        "id": "lreKoTxBjVf4"
      },
      "source": [
        "(files is here: https://www.kaggle.com/mariaren/covid19-healthy-diet-dataset?select=Food_Supply_Quantity_kg_Data.csv). Download all 32 columns. \n",
        "During this tutorial we will be using Python and make use of the following libraries:"
      ]
    },
    {
      "cell_type": "code",
      "metadata": {
        "id": "VK1stB2QfqPr"
      },
      "source": [
        "# Warning for handling warning messages\n",
        "import warnings\n",
        "warnings.filterwarnings(action='ignore')\n",
        "# https://stackoverflow.com/questions/9031783/hide-all-warnings-in-ipython"
      ],
      "execution_count": null,
      "outputs": []
    },
    {
      "cell_type": "code",
      "metadata": {
        "colab": {
          "base_uri": "https://localhost:8080/"
        },
        "id": "3wkMXNuJD9QT",
        "outputId": "78b7ce36-7650-43c6-acf8-e471d0506426"
      },
      "source": [
        "!pip install plotly==4.0.0"
      ],
      "execution_count": null,
      "outputs": [
        {
          "output_type": "stream",
          "text": [
            "Collecting plotly==4.0.0\n",
            "\u001b[?25l  Downloading https://files.pythonhosted.org/packages/58/f3/a49d3281cc7275164ecf89ad3497556b11d9661faa119becdf7f9d3b2125/plotly-4.0.0-py2.py3-none-any.whl (6.8MB)\n",
            "\u001b[K     |████████████████████████████████| 6.8MB 14.7MB/s \n",
            "\u001b[?25hRequirement already satisfied: retrying>=1.3.3 in /usr/local/lib/python3.7/dist-packages (from plotly==4.0.0) (1.3.3)\n",
            "Requirement already satisfied: six in /usr/local/lib/python3.7/dist-packages (from plotly==4.0.0) (1.15.0)\n",
            "\u001b[31mERROR: cufflinks 0.17.3 has requirement plotly>=4.1.1, but you'll have plotly 4.0.0 which is incompatible.\u001b[0m\n",
            "Installing collected packages: plotly\n",
            "  Found existing installation: plotly 4.4.1\n",
            "    Uninstalling plotly-4.4.1:\n",
            "      Successfully uninstalled plotly-4.4.1\n",
            "Successfully installed plotly-4.0.0\n"
          ],
          "name": "stdout"
        }
      ]
    },
    {
      "cell_type": "code",
      "metadata": {
        "id": "ebLKNTgxgsjY"
      },
      "source": [
        "# Numpy for data management\n",
        "import numpy as np\n",
        "\n",
        "# Pandas also for data management\n",
        "import pandas as pd\n",
        "\n",
        "# Matplotlib for additional customization\n",
        "from matplotlib import pyplot as plt\n",
        "%matplotlib inline\n",
        "\n",
        "# Seaborn for plotting and styling\n",
        "import seaborn as sns\n",
        "sns.set_style(\"darkgrid\")\n",
        "\n",
        "# Stats modules\n",
        "import statsmodels.api as sm\n",
        "import scipy.stats as stats\n",
        "\n",
        "# Auxiliar libraries\n",
        "from sklearn.metrics import r2_score\n",
        "\n"
      ],
      "execution_count": null,
      "outputs": []
    },
    {
      "cell_type": "code",
      "metadata": {
        "id": "v3xfUE83Q_6a"
      },
      "source": [
        "### SSTotal\n",
        "def ss_total(y):\n",
        "    return np.sum((y - np.mean(y))**2)\n",
        "\n",
        "### SSResiduals & SSErrors\n",
        "# Watch out for broadcast effects\n",
        "# y shape is (209,) and predictions shape is (209,1)\n",
        "# shapes have to agree when using element-wise operations in numpy\n",
        "# in this case, we will just reshape predictions to (209,)\n",
        "\n",
        "# The regression sum of squares, also called the explained sum of squares:\n",
        "def ss_reg(pred, y):\n",
        "    return np.sum((pred[:,0] - np.mean(y))**2)\n",
        "\n",
        "# The sum of squares of residuals, also called the residual sum of squares:\n",
        "def ss_res(pred, y):\n",
        "    return np.sum((y - pred[:,0])**2)"
      ],
      "execution_count": null,
      "outputs": []
    },
    {
      "cell_type": "code",
      "metadata": {
        "colab": {
          "base_uri": "https://localhost:8080/"
        },
        "id": "3o3iiHHVg6eC",
        "outputId": "c23f2a7a-0d80-496d-8ef3-63a1cf9b8d9b"
      },
      "source": [
        "# load the text file\n",
        "url = 'https://raw.githubusercontent.com/Migaalee/PAD/main/Food_Supply_Quantity_kg_Data_filtered.csv'\n",
        "data = pd.read_csv(url)\n",
        "data.shape\n",
        "# Dataset is now stored in a Pandas Dataframe"
      ],
      "execution_count": null,
      "outputs": [
        {
          "output_type": "execute_result",
          "data": {
            "text/plain": [
              "(119, 10)"
            ]
          },
          "metadata": {
            "tags": []
          },
          "execution_count": 165
        }
      ]
    },
    {
      "cell_type": "markdown",
      "metadata": {
        "id": "IbETxaoRgAHz"
      },
      "source": [
        "## Check how data is organised."
      ]
    },
    {
      "cell_type": "code",
      "metadata": {
        "colab": {
          "base_uri": "https://localhost:8080/"
        },
        "id": "SX3KQoQ8f_Pf",
        "outputId": "52186aa9-4664-49fa-efe4-d83fea70aa5c"
      },
      "source": [
        "my_list = list(data)\n",
        "\n",
        "print (my_list)"
      ],
      "execution_count": null,
      "outputs": [
        {
          "output_type": "stream",
          "text": [
            "['Alcoholic Beverages', 'Animal Products', 'Fish, Seafood', 'Stimulants', 'Sugar & Sweeteners', 'Vegetal Products', 'Obesity', 'Confirmed', 'Deaths', 'Recovered']\n"
          ],
          "name": "stdout"
        }
      ]
    },
    {
      "cell_type": "code",
      "metadata": {
        "id": "RBzbqEC7lTWc"
      },
      "source": [
        "x = data[['Vegetal Products']].values\n",
        "y = data[['Confirmed']].values\n"
      ],
      "execution_count": null,
      "outputs": []
    },
    {
      "cell_type": "markdown",
      "metadata": {
        "id": "DaIY4_u_SSOV"
      },
      "source": [
        "# 2. Regression Analysis\n",
        "\n",
        "## Module I - Linear Regression Tutorial\n",
        "\n",
        "\n",
        "\n"
      ]
    },
    {
      "cell_type": "markdown",
      "metadata": {
        "id": "W7pcxsfI3qm0"
      },
      "source": [
        "### Tasks\n"
      ]
    },
    {
      "cell_type": "markdown",
      "metadata": {
        "id": "hi0nQaVKX2c0"
      },
      "source": [
        "- a) Select two features in your dataset with more or less “linear‐like” scatterplot. Display the scatter‐\n",
        "plot, and make a comment on it."
      ]
    },
    {
      "cell_type": "code",
      "metadata": {
        "id": "UpNWTMXjavT0",
        "colab": {
          "base_uri": "https://localhost:8080/",
          "height": 279
        },
        "outputId": "683e2c9c-cb91-4ef4-891b-cfe60a05e708"
      },
      "source": [
        "ax = sns.regplot(x=x, y=y, fit_reg=False, scatter_kws={'alpha':0.5})\n",
        "ax.set(xlabel='Vegetal Products', \n",
        "       ylabel='Confirmed covid cases');"
      ],
      "execution_count": null,
      "outputs": [
        {
          "output_type": "display_data",
          "data": {
            "image/png": "[encoded data removed]",
            "text/plain": [
              "<Figure size 432x288 with 1 Axes>"
            ]
          },
          "metadata": {
            "tags": []
          }
        }
      ]
    },
    {
      "cell_type": "code",
      "metadata": {
        "colab": {
          "base_uri": "https://localhost:8080/"
        },
        "id": "EI5mQXzemuEn",
        "outputId": "d61bb935-b037-48a6-f706-81aac91b478f"
      },
      "source": [
        "print(x.shape)\n",
        "print(y.shape)\n"
      ],
      "execution_count": null,
      "outputs": [
        {
          "output_type": "stream",
          "text": [
            "(119, 1)\n",
            "(119, 1)\n"
          ],
          "name": "stdout"
        }
      ]
    },
    {
      "cell_type": "markdown",
      "metadata": {
        "id": "K7xQ6oxwnYv5"
      },
      "source": [
        "Estimate coefficient beta0 (both ways should match)"
      ]
    },
    {
      "cell_type": "code",
      "metadata": {
        "colab": {
          "base_uri": "https://localhost:8080/"
        },
        "id": "S8T9QrRqnXPc",
        "outputId": "bebe23a3-902a-44ae-ad90-4c689c1079b0"
      },
      "source": [
        "# re-importing to ease readability\n",
        "from numpy.linalg import inv\n",
        "from numpy.linalg import det\n",
        "from numpy import dot\n",
        "\n",
        "beta = dot(dot(inv(dot(x.T, x)),x.T),y) \n",
        "print('Estimated coefficient:', beta[0])"
      ],
      "execution_count": null,
      "outputs": [
        {
          "output_type": "stream",
          "text": [
            "Estimated coefficient: [0.04339053]\n"
          ],
          "name": "stdout"
        }
      ]
    },
    {
      "cell_type": "code",
      "metadata": {
        "colab": {
          "base_uri": "https://localhost:8080/"
        },
        "id": "M9G87Wl9n8fh",
        "outputId": "4d8991ea-8b68-4e4e-d200-3a7f633b2c1e"
      },
      "source": [
        "beta = np.linalg.lstsq(x, y)[0]\n",
        "print('Estimated coefficients:', beta[0])"
      ],
      "execution_count": null,
      "outputs": [
        {
          "output_type": "stream",
          "text": [
            "Estimated coefficients: [0.04339053]\n"
          ],
          "name": "stdout"
        }
      ]
    },
    {
      "cell_type": "markdown",
      "metadata": {
        "id": "kDlo779wZneV"
      },
      "source": [
        "- b) Build a linear regression of one of the features over the other. Obtain a normal probability plot of \n",
        "the standardized residuals from this regression. Does the normal probability plot indicate \n",
        "acceptable normality, or is there any skewness? If a skewness, what is the type of it?"
      ]
    },
    {
      "cell_type": "markdown",
      "metadata": {
        "id": "uDAkVRwqsujM"
      },
      "source": [
        "This is our simple regression $$Y = \\beta X + \\epsilon$$\n",
        "without intercept"
      ]
    },
    {
      "cell_type": "code",
      "metadata": {
        "id": "kJfIUmLoawfA",
        "colab": {
          "base_uri": "https://localhost:8080/",
          "height": 295
        },
        "outputId": "b31cea1f-ec2b-4a15-d495-9d3a7786cfd1"
      },
      "source": [
        "predictions = x * (beta) # making use of numpy's broadcast\n",
        "predictions_withouth_intercept = predictions\n",
        "ax = sns.regplot(x=x, y=y, fit_reg=False, scatter_kws={'alpha':0.5})\n",
        "ax.set(xlabel='Vegetal Products', \n",
        "       ylabel='Confirmed covid cases',\n",
        "       title='Linear Regression Relation (covid cases vs vegetable consumption)');\n",
        "plt.plot(x, predictions) # overlay a line plot over a scatter plot \n",
        "plt.show()\n"
      ],
      "execution_count": null,
      "outputs": [
        {
          "output_type": "display_data",
          "data": {
            "image/png": "[encoded data removed]",
            "text/plain": [
              "<Figure size 432x288 with 1 Axes>"
            ]
          },
          "metadata": {
            "tags": []
          }
        }
      ]
    },
    {
      "cell_type": "markdown",
      "metadata": {
        "id": "JiU_cJK5tG9H"
      },
      "source": [
        "Now lets improve the fit by adding ntercept term $\\beta_0$ in your model as $\\hat{Y} = \\beta_0 + \\beta_1X$.  To do this we need to calculate  $\\beta_0$ by padding $X$ with a column of ones."
      ]
    },
    {
      "cell_type": "code",
      "metadata": {
        "colab": {
          "base_uri": "https://localhost:8080/"
        },
        "id": "4F7zvmzitb7N",
        "outputId": "c55754af-3d09-498b-9c8d-8d16d06302cd"
      },
      "source": [
        "ones_vector = np.ones(len(x)) \n",
        "\n",
        "# append constant term as a column of x\n",
        "x = np.c_[ones_vector, x]\n",
        "\n",
        "print(x[:5])\n",
        "\n",
        "\n"
      ],
      "execution_count": null,
      "outputs": [
        {
          "output_type": "stream",
          "text": [
            "[[ 1.     27.1612]\n",
            " [ 1.     35.3838]\n",
            " [ 1.     32.1944]\n",
            " [ 1.     34.4636]\n",
            " [ 1.     31.0774]]\n"
          ],
          "name": "stdout"
        }
      ]
    },
    {
      "cell_type": "code",
      "metadata": {
        "colab": {
          "base_uri": "https://localhost:8080/"
        },
        "id": "doLcKoYEt3ZG",
        "outputId": "089187d0-db29-4154-ecfd-b89dc6609adf"
      },
      "source": [
        "beta = np.linalg.lstsq(x, y)[0]\n",
        "print('Estimated coefficients:', beta)\n",
        "\n",
        "# to use the dot product function we have to state that the coefficients vector is of the shape (2,1)\n",
        "print('Old shape of coefficients array:',beta.shape)\n",
        "beta = np.reshape(beta,(-1,1))\n",
        "print('New shape of coefficients array:',beta.shape)\n"
      ],
      "execution_count": null,
      "outputs": [
        {
          "output_type": "stream",
          "text": [
            "Estimated coefficients: [[ 7.60362259]\n",
            " [-0.1583189 ]]\n",
            "Old shape of coefficients array: (2, 1)\n",
            "New shape of coefficients array: (2, 1)\n"
          ],
          "name": "stdout"
        }
      ]
    },
    {
      "cell_type": "code",
      "metadata": {
        "colab": {
          "base_uri": "https://localhost:8080/",
          "height": 295
        },
        "id": "Ry822a6o4_Tz",
        "outputId": "bd9ca362-788d-4e23-e116-1105a87297d9"
      },
      "source": [
        "# compute new predictions\n",
        "predictions_with_intercept = dot(x,beta) \n",
        "\n",
        "ax = sns.regplot(x=x[:,1], y=y, fit_reg=False, scatter_kws={'alpha':0.5})\n",
        "ax.set(xlabel='Vegetal Products', \n",
        "       ylabel='Confirmed covid cases',\n",
        "       title='Linear Regression Relation (covid cases vs vegetable consumption)');\n",
        "plt.plot(x[:,1], predictions_with_intercept) # overlay a line plot over a scatter plot \n",
        "plt.show()"
      ],
      "execution_count": null,
      "outputs": [
        {
          "output_type": "display_data",
          "data": {
            "image/png": "[encoded data removed]",
            "text/plain": [
              "<Figure size 432x288 with 1 Axes>"
            ]
          },
          "metadata": {
            "tags": []
          }
        }
      ]
    },
    {
      "cell_type": "code",
      "metadata": {
        "colab": {
          "base_uri": "https://localhost:8080/"
        },
        "id": "9loAcgLg8xqN",
        "outputId": "92433cbe-a8a6-445b-e43e-62b4137be390"
      },
      "source": [
        "print(x.shape)\n",
        "print(y.shape)"
      ],
      "execution_count": null,
      "outputs": [
        {
          "output_type": "stream",
          "text": [
            "(119, 2)\n",
            "(119, 1)\n"
          ],
          "name": "stdout"
        }
      ]
    },
    {
      "cell_type": "markdown",
      "metadata": {
        "id": "1mgyzusgjSMh"
      },
      "source": [
        "Until here all good - do not change above lines"
      ]
    },
    {
      "cell_type": "markdown",
      "metadata": {
        "id": "x5Wf3WNbpcgB"
      },
      "source": [
        "Obtain a normal probability plot of the standardized residuals from this regression."
      ]
    },
    {
      "cell_type": "markdown",
      "metadata": {
        "id": "u1CaddLYkfMX"
      },
      "source": [
        ""
      ]
    },
    {
      "cell_type": "code",
      "metadata": {
        "colab": {
          "base_uri": "https://localhost:8080/"
        },
        "id": "A5eSz5yJjapC",
        "outputId": "5f2ae57b-2d87-495d-aa00-742f4313d06f"
      },
      "source": [
        "print(predictions.shape)\n",
        "print(predictions.shape)\n",
        "print(predictions_withouth_intercept.shape)\n",
        "print(predictions_with_intercept.shape)\n",
        "print(x.shape)\n",
        "print(y.shape)\n",
        "print(beta.shape)\n",
        "y1=y[:,0]\n",
        "print(y1.shape)"
      ],
      "execution_count": null,
      "outputs": [
        {
          "output_type": "stream",
          "text": [
            "(119, 1)\n",
            "(119, 1)\n",
            "(119, 1)\n",
            "(119, 1)\n",
            "(119, 2)\n",
            "(119, 1)\n",
            "(2, 1)\n",
            "(119,)\n"
          ],
          "name": "stdout"
        }
      ]
    },
    {
      "cell_type": "code",
      "metadata": {
        "colab": {
          "base_uri": "https://localhost:8080/",
          "height": 404
        },
        "id": "kfO1Z1DcpbZn",
        "outputId": "366c95e8-1ebc-44e5-e850-40ca553f6b69"
      },
      "source": [
        "fig, axs = plt.subplots(ncols=2, # Set the number of columns to split the figure in\n",
        "                        figsize=(16, 6)) # size of the whole figure\n",
        "\n",
        "# re-computing our model values\n",
        "predictions = dot(x,beta)\n",
        "residuals = y1 - predictions_with_intercept[:,0]\n",
        "degrees_of_freedom = len(y1) - x.shape[1]\n",
        "\n",
        "sm.qqplot(residuals, \n",
        "          stats.t,\n",
        "          distargs=(degrees_of_freedom,), \n",
        "          line='q', \n",
        "          ax=axs[0])\n",
        "axs[0].set_title(label = 'Q-Q plot')\n",
        "axs[0].set_xlim(-3.5,3.5)\n",
        "\n",
        "\n",
        "residuals_standard_error = np.sqrt( (1/degrees_of_freedom) *  np.sum(residuals ** 2))\n",
        "mean_independent_variable = np.mean(x[:,1])\n",
        "leverage = ( (1/len(x)) \n",
        "             + (((x[:,1] - mean_independent_variable)**2) \n",
        "                / np.sum((x[:,1] - mean_independent_variable)**2)) )\n",
        "standardized_rediduals = residuals / (residuals_standard_error * np.sqrt( 1 - leverage))\n",
        "\n",
        "sns.regplot(x=predictions[:,0], \n",
        "            y=standardized_rediduals, \n",
        "            ax=axs[1],\n",
        "            lowess=True, \n",
        "            scatter_kws={'alpha':0.3}, \n",
        "            line_kws={\"color\":\"r\",\"alpha\":0.4,\"lw\":2})\n",
        "plt.plot(np.arange(len(standardized_rediduals)), [0]*len(standardized_rediduals), 'r-')\n",
        "axs[1].set_ylim(-2.5,3.5)\n",
        "axs[1].set_xlim(0,4)\n",
        "\n",
        "axs[1].set(ylabel='Standardized Residuals', \n",
        "           xlabel='Fitted values');\n",
        "axs[1].set_title(label = 'Standardized Residuals vs Fitted values');"
      ],
      "execution_count": null,
      "outputs": [
        {
          "output_type": "display_data",
          "data": {
            "image/png": "[encoded data removed]",
            "text/plain": [
              "<Figure size 1152x432 with 2 Axes>"
            ]
          },
          "metadata": {
            "tags": []
          }
        }
      ]
    },
    {
      "cell_type": "markdown",
      "metadata": {
        "id": "KjAW614Kpjsb"
      },
      "source": [
        "Does the normal probability plot indicate acceptable normality, or is there any skewness?"
      ]
    },
    {
      "cell_type": "markdown",
      "metadata": {
        "id": "l5CouKLSp0oz"
      },
      "source": [
        "If a skewness, what is the type of it?\n",
        "Normal probability plot (QQplot) indicates that residuals are slightly skewed and might be because of few outliers in the dataset. The condition that the error terms are normally distributed by visual representation is not met. However, additional tests for normality should be considered (e.g. Shapiro-Wilks normality test)."
      ]
    },
    {
      "cell_type": "markdown",
      "metadata": {
        "id": "ux6HkUHRZxdr"
      },
      "source": [
        "- c) Take the natural log of both of the variables and perform a linear regression on the transformed \n",
        "features. Obtain a normal probability plot of the standardized residuals from this regression. Discuss \n",
        "if this probability plot indicates an acceptable level of normality?"
      ]
    },
    {
      "cell_type": "code",
      "metadata": {
        "id": "hHdQcvknaxGh"
      },
      "source": [
        "mask = y1 != 0\n",
        "y_masked = y1[mask]\n",
        "x_masked = x[mask]\n",
        "y_masked = np.log(y_masked)\n",
        "x_masked = np.log(x_masked)"
      ],
      "execution_count": null,
      "outputs": []
    },
    {
      "cell_type": "code",
      "metadata": {
        "colab": {
          "base_uri": "https://localhost:8080/",
          "height": 312
        },
        "id": "uJ8Kk29wIBZG",
        "outputId": "ae3eabf8-ebd1-4ed6-8509-3b83e89a7e63"
      },
      "source": [
        "# estimate the coefficients\n",
        "beta = np.linalg.lstsq(x_masked, y_masked)[0]\n",
        "print('Estimated coefficients:', beta)\n",
        "beta = np.reshape(beta,(-1,1))\n",
        "\n",
        "# compute new predictions\n",
        "predictions = dot(x_masked,beta) \n",
        "\n",
        "ax = sns.regplot(x=x_masked[:,1], y=y_masked, fit_reg=False, scatter_kws={'alpha':0.5})\n",
        "ax.set(xlabel='Vegetal Products', \n",
        "       ylabel='Confirmed covid cases',\n",
        "       title='Linear Regression Relation (Log(covid cases) vs Log(vegetable consumption))');\n",
        "plt.plot(x_masked[:,1], predictions) # overlay a line plot over a scatter plot \n",
        "plt.show()\n",
        "\n"
      ],
      "execution_count": null,
      "outputs": [
        {
          "output_type": "stream",
          "text": [
            "Estimated coefficients: [ 0.         -0.05103439]\n"
          ],
          "name": "stdout"
        },
        {
          "output_type": "display_data",
          "data": {
            "image/png": "[encoded data removed]",
            "text/plain": [
              "<Figure size 432x288 with 1 Axes>"
            ]
          },
          "metadata": {
            "tags": []
          }
        }
      ]
    },
    {
      "cell_type": "code",
      "metadata": {
        "colab": {
          "base_uri": "https://localhost:8080/",
          "height": 404
        },
        "id": "KbNwHlcRNgzo",
        "outputId": "623404dc-3a95-4aed-c8f6-435d418bf4be"
      },
      "source": [
        "fig, axs = plt.subplots(ncols=2, # Set the number of columns to split the figure in\n",
        "                        figsize=(16, 6)) # size of the whole figure\n",
        "\n",
        "# re-computing our model values\n",
        "predictions = dot(x_masked,beta)\n",
        "residuals = y_masked - predictions[:,0]\n",
        "degrees_of_freedom = len(y_masked) - x_masked.shape[1]\n",
        "\n",
        "sm.qqplot(residuals, \n",
        "          stats.t,\n",
        "          distargs=(degrees_of_freedom,), \n",
        "          line='q', \n",
        "          ax=axs[0])\n",
        "axs[0].set_title(label = 'Q-Q plot')\n",
        "axs[0].set_xlim(-3.5,3.5)\n",
        "\n",
        "\n",
        "residuals_standard_error = np.sqrt( (1/degrees_of_freedom) *  np.sum(residuals ** 2))\n",
        "mean_independent_variable = np.mean(x_masked[:,1])\n",
        "leverage = ( (1/len(x_masked)) \n",
        "             + (((x_masked[:,1] - mean_independent_variable)**2) \n",
        "                / np.sum((x_masked[:,1] - mean_independent_variable)**2)) )\n",
        "standardized_rediduals = residuals / (residuals_standard_error * np.sqrt( 1 - leverage))\n",
        "\n",
        "sns.regplot(x=predictions[:,0], \n",
        "            y=standardized_rediduals, \n",
        "            ax=axs[1],\n",
        "            lowess=True, \n",
        "            scatter_kws={'alpha':0.3}, \n",
        "            line_kws={\"color\":\"r\",\"alpha\":0.4,\"lw\":2})\n",
        "plt.plot(np.arange(len(standardized_rediduals)), [0]*len(standardized_rediduals), 'r-')\n",
        "axs[1].set_ylim(-3.5,3.5)\n",
        "axs[1].set_xlim(-0.2,-0.15)\n",
        "axs[1].set(ylabel='Standardized Residuals', \n",
        "           xlabel='Fitted values');\n",
        "axs[1].set_title(label = 'Standardized Residuals vs Fitted values');"
      ],
      "execution_count": null,
      "outputs": [
        {
          "output_type": "display_data",
          "data": {
            "image/png": "[encoded data removed]",
            "text/plain": [
              "<Figure size 1152x432 with 2 Axes>"
            ]
          },
          "metadata": {
            "tags": []
          }
        }
      ]
    },
    {
      "cell_type": "markdown",
      "metadata": {
        "id": "FyFtYgqgMzIH"
      },
      "source": [
        "Transformed only Y values instead of both values"
      ]
    },
    {
      "cell_type": "code",
      "metadata": {
        "id": "BaM-_YzWMyFh"
      },
      "source": [
        "mask = y1 != 0\n",
        "y_masked = y1[mask]\n",
        "x_masked1 = x[mask]\n",
        "y_masked = np.log(y_masked)\n"
      ],
      "execution_count": null,
      "outputs": []
    },
    {
      "cell_type": "code",
      "metadata": {
        "colab": {
          "base_uri": "https://localhost:8080/",
          "height": 312
        },
        "id": "zre4jbvfNAIn",
        "outputId": "a3dc5d8a-4941-409d-d955-dfdd8ee665ad"
      },
      "source": [
        "# estimate the coefficients\n",
        "beta = np.linalg.lstsq(x_masked1, y_masked)[0]\n",
        "print('Estimated coefficients:', beta)\n",
        "beta = np.reshape(beta,(-1,1))\n",
        "\n",
        "# compute new predictions\n",
        "predictions = dot(x_masked1,beta) \n",
        "\n",
        "ax = sns.regplot(x=x_masked1[:,1], y=y_masked, fit_reg=False, scatter_kws={'alpha':0.5})\n",
        "ax.set(xlabel='Vegetal Products', \n",
        "       ylabel='Confirmed covid cases',\n",
        "       title='Linear Regression Relation (Vegetable consumption vs Log(confirmed covid cases))');\n",
        "plt.plot(x_masked1[:,1], predictions) # overlay a line plot over a scatter plot \n",
        "plt.show()\n",
        "\n"
      ],
      "execution_count": null,
      "outputs": [
        {
          "output_type": "stream",
          "text": [
            "Estimated coefficients: [ 5.10907811 -0.14270815]\n"
          ],
          "name": "stdout"
        },
        {
          "output_type": "display_data",
          "data": {
            "image/png": "[encoded data removed]",
            "text/plain": [
              "<Figure size 432x288 with 1 Axes>"
            ]
          },
          "metadata": {
            "tags": []
          }
        }
      ]
    },
    {
      "cell_type": "code",
      "metadata": {
        "colab": {
          "base_uri": "https://localhost:8080/",
          "height": 404
        },
        "id": "zzqOdZucOd7v",
        "outputId": "ab2a9a1f-88e2-47d3-8161-c7eb9fc003b6"
      },
      "source": [
        "fig, axs = plt.subplots(ncols=2, # Set the number of columns to split the figure in\n",
        "                        figsize=(16, 6)) # size of the whole figure\n",
        "\n",
        "# re-computing our model values\n",
        "predictions = dot(x_masked1,beta)\n",
        "residuals = y_masked - predictions[:,0]\n",
        "degrees_of_freedom = len(y_masked) - x_masked1.shape[1]\n",
        "\n",
        "sm.qqplot(residuals, \n",
        "          stats.t,\n",
        "          distargs=(degrees_of_freedom,), \n",
        "          line='q', \n",
        "          ax=axs[0])\n",
        "axs[0].set_title(label = 'Q-Q plot')\n",
        "axs[0].set_xlim(-3.5,3.5)\n",
        "\n",
        "\n",
        "residuals_standard_error = np.sqrt( (1/degrees_of_freedom) *  np.sum(residuals ** 2))\n",
        "mean_independent_variable = np.mean(x_masked1[:,1])\n",
        "leverage = ( (1/len(x_masked1)) \n",
        "             + (((x_masked[:,1] - mean_independent_variable)**2) \n",
        "                / np.sum((x_masked1[:,1] - mean_independent_variable)**2)) )\n",
        "standardized_rediduals = residuals / (residuals_standard_error * np.sqrt( 1 - leverage))\n",
        "\n",
        "sns.regplot(x=predictions[:,0], \n",
        "            y=standardized_rediduals, \n",
        "            ax=axs[1],\n",
        "            lowess=True, \n",
        "            scatter_kws={'alpha':0.3}, \n",
        "            line_kws={\"color\":\"r\",\"alpha\":0.4,\"lw\":2})\n",
        "plt.plot(np.arange(len(standardized_rediduals)), [0]*len(standardized_rediduals), 'r-')\n",
        "axs[1].set_ylim(-3.5,3.5)\n",
        "axs[1].set_xlim(-2,2)\n",
        "axs[1].set(ylabel='Standardized Residuals', \n",
        "           xlabel='Fitted values');\n",
        "axs[1].set_title(label = 'Standardized Residuals vs Fitted values');"
      ],
      "execution_count": null,
      "outputs": [
        {
          "output_type": "display_data",
          "data": {
            "image/png": "[encoded data removed]",
            "text/plain": [
              "<Figure size 1152x432 with 2 Axes>"
            ]
          },
          "metadata": {
            "tags": []
          }
        }
      ]
    },
    {
      "cell_type": "markdown",
      "metadata": {
        "id": "f2b_m82uMtWB"
      },
      "source": [
        "QQplot after log transformation of data indicates that residuals are still skewed, hence the condition that the error terms are normally distributed is not met. However, additional tests for normality should be considered (e.g. Shapiro-Wilks normality test)."
      ]
    },
    {
      "cell_type": "markdown",
      "metadata": {
        "id": "CN6WioLhVJtI"
      },
      "source": [
        "Coefficient for determinancy for log transformed (y) data"
      ]
    },
    {
      "cell_type": "code",
      "metadata": {
        "colab": {
          "base_uri": "https://localhost:8080/"
        },
        "id": "TTXRxlcQQaYd",
        "outputId": "16edcd35-58cd-4245-ec7a-964348cdb557"
      },
      "source": [
        "# SStotal\n",
        "sstotallog = ss_total(y_masked)\n",
        "\n",
        "# SSReg\n",
        "ssreglog = ss_reg(predictions, y_masked)\n",
        "\n",
        "# SSRes\n",
        "ssreslog = ss_res(predictions, y_masked)\n",
        "\n",
        "### R^2\n",
        "rsqlog = 1 - (ssreslog / sstotallog)\n",
        "\n",
        "print('SStotal:', round(sstotallog,4))\n",
        "print('SSreg:', round(ssreglog,4))\n",
        "print('SSres:', round(ssreslog,4))\n",
        "print('Coefficient of Determinacy:', np.round(rsqlog,2))"
      ],
      "execution_count": null,
      "outputs": [
        {
          "output_type": "stream",
          "text": [
            "SStotal: 251.0691\n",
            "SSreg: 74.9392\n",
            "SSres: 176.1299\n",
            "Coefficient of Determinacy: 0.3\n"
          ],
          "name": "stdout"
        }
      ]
    },
    {
      "cell_type": "markdown",
      "metadata": {
        "id": "sDlONCHERQ7Y"
      },
      "source": [
        "Log transforming the data does improves determinancy coefficient from 0.27 to 0.3."
      ]
    },
    {
      "cell_type": "markdown",
      "metadata": {
        "id": "UQNwU7B1Z7JZ"
      },
      "source": [
        "- d) Write the population regression equation for your model. Interpret the meaning of the values of \n",
        "the parameters beta0 and beta1"
      ]
    },
    {
      "cell_type": "markdown",
      "metadata": {
        "id": "g3PSg6CBQPF8"
      },
      "source": [
        "Population regression model $\\hat{Y} = \\beta_0 + \\beta_1X + u$, is a linear function that shows theoretical relationship between a dependable variable  $\\hat{Y}$ and explanatory variable ${X}$, where $\\beta_0$ is an intercept and  $\\beta_1$ is a slope coefficient. In population regression model $u$ term is introduced as stochastic error term. To express how number of confirmed covid cases correlates with consumption of vegetable products, our model can be re-written as $\\hat{Y}_{covid} = 7.6036 -0.1583X_{vegetables} + u$ in a linear scale and in logarithmic scale $\\hat{Y}_{covid} = 5.1090 -0.1427X_{vegetables} +u$. "
      ]
    },
    {
      "cell_type": "markdown",
      "metadata": {
        "id": "qtqNyMVcaSZ1"
      },
      "source": [
        "- e) Find the correlation and determinacy coefficients. Analyse and comment on  the meaning of both.\n"
      ]
    },
    {
      "cell_type": "markdown",
      "metadata": {
        "id": "_7Gic3wj7vd-"
      },
      "source": [
        "Rsquare can be checked this way."
      ]
    },
    {
      "cell_type": "code",
      "metadata": {
        "colab": {
          "base_uri": "https://localhost:8080/"
        },
        "id": "1SLULR1o7uJJ",
        "outputId": "302c702f-f30c-4f23-b8b8-a5696ff53fa4"
      },
      "source": [
        "print('Coefficient of Determinacy:',round(r2_score(y_true=y, y_pred=predictions_with_intercept),2))\n",
        "print('Coefficient of Determinacy for y-logged data:',round(r2_score(y_true=y_masked, y_pred=predictions),2))"
      ],
      "execution_count": null,
      "outputs": [
        {
          "output_type": "stream",
          "text": [
            "Coefficient of Determinacy: 0.27\n",
            "Coefficient of Determinacy for y-logged data: 0.3\n"
          ],
          "name": "stdout"
        }
      ]
    },
    {
      "cell_type": "markdown",
      "metadata": {
        "id": "okmo6UJN-xrf"
      },
      "source": [
        "R2 of a model is 0.30, so approximately 30% of the observed variation can be explained by the model's inputs."
      ]
    },
    {
      "cell_type": "markdown",
      "metadata": {
        "id": "X-6HivqMaywC"
      },
      "source": [
        "Or this way:"
      ]
    },
    {
      "cell_type": "code",
      "metadata": {
        "colab": {
          "base_uri": "https://localhost:8080/"
        },
        "id": "d5e9TGoeAGVi",
        "outputId": "028d05ff-4d84-4400-df75-b0fbb4468f18"
      },
      "source": [
        "### SSTotal\n",
        "def ss_total(y):\n",
        "    return np.sum((y - np.mean(y))**2)\n",
        "\n",
        "### SSResiduals & SSErrors\n",
        "# Watch out for broadcast effects\n",
        "# y shape is (209,) and predictions shape is (209,1)\n",
        "# shapes have to agree when using element-wise operations in numpy\n",
        "# in this case, we will just reshape predictions to (209,)\n",
        "\n",
        "# The regression sum of squares, also called the explained sum of squares:\n",
        "def ss_reg(pred, y):\n",
        "    return np.sum((pred[:,0] - np.mean(y))**2)\n",
        "\n",
        "# The sum of squares of residuals, also called the residual sum of squares:\n",
        "def ss_res(pred, y):\n",
        "    return np.sum((y - pred[:,0])**2) \n",
        "\n",
        "# SStotal\n",
        "sstotal = ss_total(y1)\n",
        "\n",
        "# We could also obtain SStotal using the target's variance\n",
        "# don't forget to get an unbiased estimate of the variance \n",
        "ss_total_using_variance = (len(y1) - 1 ) * np.var(y1, ddof=1) \n",
        "\n",
        "# SSReg\n",
        "ssreg = ss_reg(predictions_with_intercept, y1)\n",
        "\n",
        "# SSRes\n",
        "ssres = ss_res(predictions_with_intercept, y1)\n",
        "\n",
        "### R^2\n",
        "rsq_with_intercept = 1 - (ssres / sstotal)\n",
        "\n",
        "print('SStotal:', round(sstotal,4))\n",
        "print('SSreg:', round(ssreg,4))\n",
        "print('SSres:', round(ssres,4))\n",
        "print('Coefficient of Determinacy, model with intercept:', np.round(rsq_with_intercept,2))"
      ],
      "execution_count": null,
      "outputs": [
        {
          "output_type": "stream",
          "text": [
            "SStotal: 346.0593\n",
            "SSreg: 92.231\n",
            "SSres: 253.8283\n",
            "Coefficient of Determinacy, model with intercept: 0.27\n"
          ],
          "name": "stdout"
        }
      ]
    },
    {
      "cell_type": "code",
      "metadata": {
        "colab": {
          "base_uri": "https://localhost:8080/"
        },
        "id": "C4-9nv5IalO-",
        "outputId": "e7a52f6e-5a2c-4fc4-c515-2fc8ab790837"
      },
      "source": [
        "# SStotal\n",
        "sstotal = ss_total(y_masked)\n",
        "\n",
        "# We could also obtain SStotal using the target's variance\n",
        "# don't forget to get an unbiased estimate of the variance \n",
        "ss_total_using_variance = (len(y_masked) - 1 ) * np.var(y_masked, ddof=1) \n",
        "\n",
        "# SSReg\n",
        "ssreg = ss_reg(predictions, y_masked)\n",
        "\n",
        "# SSRes\n",
        "ssres = ss_res(predictions, y_masked)\n",
        "\n",
        "### R^2\n",
        "rsq_with_intercept = 1 - (ssres / sstotal)\n",
        "\n",
        "print('SStotal:', round(sstotal,4))\n",
        "print('SSreg:', round(ssreg,4))\n",
        "print('SSres:', round(ssres,4))\n",
        "print('Coefficient of Determinacy, model with intercept when y-logged:', np.round(rsq_with_intercept,2))"
      ],
      "execution_count": null,
      "outputs": [
        {
          "output_type": "stream",
          "text": [
            "SStotal: 251.0691\n",
            "SSreg: 74.9392\n",
            "SSres: 176.1299\n",
            "Coefficient of Determinacy, model with intercept when y-logged: 0.3\n"
          ],
          "name": "stdout"
        }
      ]
    },
    {
      "cell_type": "markdown",
      "metadata": {
        "id": "bzyS1jraeYqG"
      },
      "source": [
        "Calculate correlation coefficient"
      ]
    },
    {
      "cell_type": "code",
      "metadata": {
        "colab": {
          "base_uri": "https://localhost:8080/"
        },
        "id": "71f2my8Vec0F",
        "outputId": "78ff4f9f-cb99-4842-8d89-4d6c4c0c9362"
      },
      "source": [
        "print('Correlation in linear model:',np.corrcoef(y1,x_masked[:,1])[0,1])\n",
        "print('Correlation in logged model:',np.corrcoef(y_masked,x_masked[:,1])[0,1])"
      ],
      "execution_count": null,
      "outputs": [
        {
          "output_type": "stream",
          "text": [
            "Correlation in linear model: -0.5020748354015256\n",
            "Correlation in logged model: -0.5240593267385711\n"
          ],
          "name": "stdout"
        }
      ]
    },
    {
      "cell_type": "markdown",
      "metadata": {
        "id": "Tdj92HFAR1Vu"
      },
      "source": [
        "ALL CONFIRMED UNTIL HERE"
      ]
    },
    {
      "cell_type": "code",
      "metadata": {
        "colab": {
          "base_uri": "https://localhost:8080/"
        },
        "id": "cF_RNI8cTWtm",
        "outputId": "bb09b662-a392-40b5-c3a0-251532757777"
      },
      "source": [
        "sigma_degrees_of_freedom = (x_masked1.shape[0]-x_masked1.shape[1])\n",
        "sigma_sqr = np.sum(residuals**2)/ sigma_degrees_of_freedom\n",
        "\n",
        "variance_covmatrix = inv(dot(x_masked1.T,x_masked1)) * sigma_sqr\n",
        "coeff_stde = np.diag(np.sqrt(variance_covmatrix))\n",
        "\n",
        "print('Coefficients\\' Standard Errors for beta0(y-intercept) and beta1(slope) :',coeff_stde)\n",
        "expected_value = 0.0\n",
        "\n",
        "for i in range(len(beta)):    \n",
        "    ttest = (beta[i] - expected_value) / coeff_stde[i]\n",
        "\n",
        "    #Degrees of freedom\n",
        "    df = x_masked.shape[0] - (i+1)\n",
        "    # https://stats.stackexchange.com/a/140395\n",
        "    \n",
        "    pval = stats.t.sf(np.abs(ttest), df)*2  # two-sided pvalue = Prob(abs(t)>tt)\n",
        "    # https://docs.scipy.org/doc/scipy/reference/tutorial/stats.html#t-test-and-ks-test\n",
        "\n",
        "\n",
        "    print('Test statistc for coefficient estimate ',i,':',ttest,'| P-value:', np.round(pval,8))\n",
        "    print(sigma_degrees_of_freedom)"
      ],
      "execution_count": null,
      "outputs": [
        {
          "output_type": "stream",
          "text": [
            "Coefficients' Standard Errors for beta0(y-intercept) and beta1(slope) : [0.75391929 0.02022637]\n",
            "Test statistc for coefficient estimate  0 : [6.77669109] | P-value: [0.]\n",
            "117\n",
            "Test statistc for coefficient estimate  1 : [-7.05554887] | P-value: [0.]\n",
            "117\n"
          ],
          "name": "stdout"
        }
      ]
    },
    {
      "cell_type": "markdown",
      "metadata": {
        "id": "sCGdxG3Tab9P"
      },
      "source": [
        "\n",
        "\n",
        "```\n",
        "# This is formatted as code\n",
        "```\n",
        "\n",
        "- f) Test the statistical hypothesis for determining whether a linear relationship exists between the \n",
        "chosen variables.\n"
      ]
    },
    {
      "cell_type": "markdown",
      "metadata": {
        "id": "Ff06VLXIXnu5"
      },
      "source": [
        "Test if beta0=0, how do we get F from this code?"
      ]
    },
    {
      "cell_type": "code",
      "metadata": {
        "id": "W5V71F5Vazff",
        "colab": {
          "base_uri": "https://localhost:8080/"
        },
        "outputId": "adcb2f84-1ac4-489e-e1cd-5944ee057329"
      },
      "source": [
        ""
      ],
      "execution_count": null,
      "outputs": [
        {
          "output_type": "stream",
          "text": [
            "Test statistc for coefficient estimate  0 : [6.77669109] | P-value: [0.]\n",
            "Test statistc for coefficient estimate  1 : [-7.05554887] | P-value: [0.]\n"
          ],
          "name": "stdout"
        }
      ]
    },
    {
      "cell_type": "markdown",
      "metadata": {
        "id": "tM2uUAViajU4"
      },
      "source": [
        "- g) Construct and interpret a 95% confidence interval for the unknown true slope of the regression line"
      ]
    },
    {
      "cell_type": "code",
      "metadata": {
        "id": "NwOLiiNzjmfy"
      },
      "source": [
        ""
      ],
      "execution_count": null,
      "outputs": []
    },
    {
      "cell_type": "markdown",
      "metadata": {
        "id": "iQcYJA9la1sY"
      },
      "source": [
        "- h) Construct a 95% confidence interval for the population correlation \n",
        "\n",
        "\n",
        "\n",
        "coefficient. Interpret the results."
      ]
    },
    {
      "cell_type": "code",
      "metadata": {
        "id": "quAUx0S2jnJZ"
      },
      "source": [
        ""
      ],
      "execution_count": null,
      "outputs": []
    },
    {
      "cell_type": "markdown",
      "metadata": {
        "id": "u85nLpbEbZfi"
      },
      "source": [
        "- i) Construct and interpret a 95% confidence interval for the mean of the y‐variable at a fixed value of \n",
        "your choice of the other variable. Interpret your result and indicate if the prediction interval is \n",
        "useful."
      ]
    },
    {
      "cell_type": "code",
      "metadata": {
        "id": "7oQ7vOYmjnuT"
      },
      "source": [
        ""
      ],
      "execution_count": null,
      "outputs": []
    },
    {
      "cell_type": "markdown",
      "metadata": {
        "id": "d9xoQ-ZvbgH2"
      },
      "source": [
        "- j) Construct and interpret a 95% confidence interval for a randomly chosen value of the y‐variable at \n",
        "a fixed value of your choice of the other variable. Interpret your result and indicate if the prediction \n",
        "interval is useful."
      ]
    },
    {
      "cell_type": "code",
      "metadata": {
        "id": "_8m896kejopF"
      },
      "source": [
        ""
      ],
      "execution_count": null,
      "outputs": []
    },
    {
      "cell_type": "markdown",
      "metadata": {
        "id": "Jj-LmARqqe46"
      },
      "source": [
        "Just testing area below"
      ]
    },
    {
      "cell_type": "code",
      "metadata": {
        "colab": {
          "base_uri": "https://localhost:8080/"
        },
        "id": "5MRzQ7f1qi2q",
        "outputId": "47618e35-93a4-415c-e449-74635a227449"
      },
      "source": [
        "sstotal = np.sum(y1**2)\n",
        "ssreg = np.sum(predictions[:,0]**2)\n",
        "ssres = ss_res(predictions, y1)\n",
        "\n",
        "\n",
        "### R^2\n",
        "rsq_without_intercept = 1 - (ssres / sstotal)\n",
        "\n",
        "print('SStotal:', round(sstotal,4))\n",
        "print('SSreg:', round(ssreg,4))\n",
        "print('SSres:', round(ssres,4))\n",
        "print('Coefficient of Determinacy, model without intercept:', np.round(rsq_without_intercept,2))\n"
      ],
      "execution_count": null,
      "outputs": [
        {
          "output_type": "stream",
          "text": [
            "SStotal: 718.2302\n",
            "SSreg: 77.6421\n",
            "SSres: 693.0318\n",
            "Coefficient of Determinacy, model without intercept: 0.04\n"
          ],
          "name": "stdout"
        }
      ]
    },
    {
      "cell_type": "markdown",
      "metadata": {
        "id": "sUDm3AY0gQTK"
      },
      "source": [
        "NOTES: there was some problem with some code and we should use this somewhere: !pip install plotly==4.0.0\n"
      ]
    },
    {
      "cell_type": "markdown",
      "metadata": {
        "id": "ki0RwlcqXPzY"
      },
      "source": [
        "# 3. Principal Component Analysis\n",
        "## Select a subset of 3 to 6 features related to the same aspect of the phenomenon to which your data set relates to. Explain your choice.\n",
        " We have selected Stimulants, Alcohol, Sugar, Vegetable and Animal products for PCA analysis to see if healthier food consumption (vegetable consumption) would be separated from unhealthy foods. \n"
      ]
    },
    {
      "cell_type": "markdown",
      "metadata": {
        "id": "ppqSHmj5cO-R"
      },
      "source": [
        "### Tasks"
      ]
    },
    {
      "cell_type": "markdown",
      "metadata": {
        "id": "_vjnIq0WZjOB"
      },
      "source": [
        "- a) Visualize the data over these features in 2D/3D PC plane using two types of normalization: by range and by standard deviations."
      ]
    },
    {
      "cell_type": "markdown",
      "metadata": {
        "id": "k1-fsont1EYc"
      },
      "source": [
        "Note: Choosing Stimulants, Alcohol, Sugar, Vegetable and Animal products for PCA analysis "
      ]
    },
    {
      "cell_type": "code",
      "metadata": {
        "id": "eC16P96L1jay"
      },
      "source": [
        ""
      ],
      "execution_count": null,
      "outputs": []
    },
    {
      "cell_type": "markdown",
      "metadata": {
        "id": "vHwjAph6ZmDH"
      },
      "source": [
        "- b) Choose between conventional PCA or SVD for the visualization. Make a comment whether one of \n",
        "the normalizations is better and why"
      ]
    },
    {
      "cell_type": "markdown",
      "metadata": {
        "id": "OSDztyb0dc0s"
      },
      "source": [
        "- c) At these visualizations, use a distinct shape/colour for data points representing a pre‐specified, by yourself, group of objects. Comment on the choice of your groups."
      ]
    },
    {
      "cell_type": "markdown",
      "metadata": {
        "id": "MdoGAEDsdc_P"
      },
      "source": [
        "- d) Calculate and make a graphical presentation of the “quality” of the PC projection of your data. Discuss your results.\n"
      ]
    },
    {
      "cell_type": "markdown",
      "metadata": {
        "id": "-WRoYGchVECI"
      },
      "source": [
        "# 4. Fuzzy Clustering with Anomalous Patterns\n"
      ]
    },
    {
      "cell_type": "markdown",
      "metadata": {
        "id": "RNX8a9LyRu3x"
      },
      "source": [
        "###Tasks"
      ]
    },
    {
      "cell_type": "markdown",
      "metadata": {
        "id": "-oVtLL23SA7V"
      },
      "source": [
        "a) Study the fuzzy c-means (FCM) program in the software package of your choice. Apply the program to your dataset at the same c parameter with random seeds. Do this for several different values of parameter c= c_min, ..., c_max. Plot the FCM clustering criterion (FCM cost function) in function of c. Analyse the graphic and comment if any number of clusters better fits your data than the others."
      ]
    },
    {
      "cell_type": "markdown",
      "metadata": {
        "id": "eMlyhzKRSBHb"
      },
      "source": [
        ""
      ]
    },
    {
      "cell_type": "markdown",
      "metadata": {
        "id": "_tK5EGkpSBT_"
      },
      "source": [
        ""
      ]
    },
    {
      "cell_type": "markdown",
      "metadata": {
        "id": "7hylaHuDSB03"
      },
      "source": [
        ""
      ]
    },
    {
      "cell_type": "markdown",
      "metadata": {
        "id": "UOo5RrYalhi2"
      },
      "source": [
        "NOTES: she said for e) if our data is unlabeled do not do Adjust rand index, instead other index could be used (Silhoutte?)"
      ]
    }
  ]
}