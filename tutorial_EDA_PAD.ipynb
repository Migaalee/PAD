{
  "nbformat": 4,
  "nbformat_minor": 0,
  "metadata": {
    "kernelspec": {
      "display_name": "Python 3",
      "language": "python",
      "name": "python3"
    },
    "language_info": {
      "codemirror_mode": {
        "name": "ipython",
        "version": 3
      },
      "file_extension": ".py",
      "mimetype": "text/x-python",
      "name": "python",
      "nbconvert_exporter": "python",
      "pygments_lexer": "ipython3",
      "version": "3.8.5"
    },
    "colab": {
      "name": "tutorial_EDA_PAD.ipynb",
      "provenance": [],
      "include_colab_link": true
    }
  },
  "cells": [
    {
      "cell_type": "markdown",
      "metadata": {
        "id": "view-in-github",
        "colab_type": "text"
      },
      "source": [
        "<a href=\"https://colab.research.google.com/github/Migaalee/PAD/blob/main/tutorial_EDA_PAD.ipynb\" target=\"_parent\"><img src=\"https://colab.research.google.com/assets/colab-badge.svg\" alt=\"Open In Colab\"/></a>"
      ]
    },
    {
      "cell_type": "markdown",
      "metadata": {
        "id": "VASmmvYKFvZ0"
      },
      "source": [
        "# Data Analysis and Mining 2018/ 2019\n",
        "\n",
        "## Data Exploration Tutorial\n",
        "\n"
      ]
    },
    {
      "cell_type": "markdown",
      "metadata": {
        "id": "NQtEAsoBFvZ_"
      },
      "source": [
        "### Objectives"
      ]
    },
    {
      "cell_type": "markdown",
      "metadata": {
        "id": "NDozWJHxFvaA"
      },
      "source": [
        "In these exercises you will explore some basic statistics and visualizations with a very popular benchmark dataset, the Anderson–Fisher Iris.\n",
        "The Iris dataset consists of four real‐valued features used to predict which of three types of iris flower\n",
        "was measured (a three‐class classification problem).\n",
        "\n",
        "Specifically, Iris is a 150 by 4 data of three taxa:\n",
        "Specimen (1‐150)       Taxon\n",
        "\n",
        "-   1‐50               Iris setosa (diploid)\n",
        "-  51‐100              Iris versicolor (tetraploid)\n",
        "- 101‐150              Iris virginica (hexaploid)\n",
        "\n",
        "Features:\n",
        "\n",
        "- W1 Sepal length\n",
        "- W2 Sepal width\n",
        "- W3 Petal length\n",
        "- W4 Petal width\n",
        "\n",
        "You can read about these data at https://archive.ics.uci.edu/ml/datasets/iris  "
      ]
    },
    {
      "cell_type": "markdown",
      "metadata": {
        "id": "BLCZWvO9FvaB"
      },
      "source": [
        "### Setup"
      ]
    },
    {
      "cell_type": "markdown",
      "metadata": {
        "id": "IlHsBHqTFvaC"
      },
      "source": [
        "During this tutorial we will make use the following libraries:"
      ]
    },
    {
      "cell_type": "code",
      "metadata": {
        "id": "xPyvqulZFvaC"
      },
      "source": [
        "# Numpy for data management\n",
        "import numpy as np\n",
        "\n",
        "# Pandas also for data management\n",
        "import pandas as pd\n",
        "\n",
        "# Matplotlib for additional customization\n",
        "from matplotlib import pyplot as plt\n",
        "%matplotlib inline\n",
        "\n",
        "# Seaborn for plotting and styling\n",
        "import seaborn as sns\n",
        "sns.set_style(\"darkgrid\")"
      ],
      "execution_count": null,
      "outputs": []
    },
    {
      "cell_type": "markdown",
      "metadata": {
        "id": "zFWZJX3RFvaD"
      },
      "source": [
        "### Load dataset"
      ]
    },
    {
      "cell_type": "markdown",
      "metadata": {
        "id": "0YVHJvpwFvaF"
      },
      "source": [
        "First, download and load the Anderson–Fisher Iris dataset into Python."
      ]
    },
    {
      "cell_type": "code",
      "metadata": {
        "id": "4TYJWx0OFvaG",
        "outputId": "f8bd9616-d1db-4fa8-b58e-0f6b03535b74"
      },
      "source": [
        "# load the text file\n",
        "data = np.loadtxt('iris.txt') \n",
        "print('Dataset type is', type(data).__name__)"
      ],
      "execution_count": null,
      "outputs": [
        {
          "output_type": "stream",
          "text": [
            "Dataset type is ndarray\n"
          ],
          "name": "stdout"
        }
      ]
    },
    {
      "cell_type": "markdown",
      "metadata": {
        "id": "u1p74gIzFvaI"
      },
      "source": [
        "A short inspection of the data file shows:  \n",
        "    - The data is tabular, whitespace separated\n",
        "    - No header row\n",
        "    - No index column\n",
        "    - Four features are all numerical continous whereas the Class feature (last one) is categorical.  \n",
        "\n",
        "Thus, given the conditions, one valid option would be to load the data into Python using the Numpy library.  \n",
        "Another option would be to use the Pandas library since we will be dealing mostly with data manipulation, summarization and visualization."
      ]
    },
    {
      "cell_type": "code",
      "metadata": {
        "id": "pln3Tn9mFvaK",
        "outputId": "5e7a616b-da2d-4ab9-f2af-d2a095fff595"
      },
      "source": [
        "# IPython 'magic' command \n",
        "# show current ndarray type objects in memory and respective information\n",
        "%whos ndarray "
      ],
      "execution_count": null,
      "outputs": [
        {
          "output_type": "stream",
          "text": [
            "Variable   Type       Data/Info\n",
            "-------------------------------\n",
            "data       ndarray    150x5: 750 elems, type `float64`, 6000 bytes\n"
          ],
          "name": "stdout"
        }
      ]
    },
    {
      "cell_type": "code",
      "metadata": {
        "id": "tFWDoTziFvaL",
        "outputId": "22d5dbdc-4c81-43d4-9e7e-097988121b86"
      },
      "source": [
        "# show current objects in memory and respective information\n",
        "%whos "
      ],
      "execution_count": null,
      "outputs": [
        {
          "output_type": "stream",
          "text": [
            "Variable   Type       Data/Info\n",
            "-------------------------------\n",
            "data       ndarray    150x5: 750 elems, type `float64`, 6000 bytes\n",
            "np         module     <module 'numpy' from 'C:\\<...>ges\\\\numpy\\\\__init__.py'>\n",
            "pd         module     <module 'pandas' from 'C:<...>es\\\\pandas\\\\__init__.py'>\n",
            "plt        module     <module 'matplotlib.pyplo<...>\\\\matplotlib\\\\pyplot.py'>\n",
            "sns        module     <module 'seaborn' from 'C<...>s\\\\seaborn\\\\__init__.py'>\n"
          ],
          "name": "stdout"
        }
      ]
    },
    {
      "cell_type": "markdown",
      "metadata": {
        "id": "fPC71f04FvaM"
      },
      "source": [
        "Find out more about IPython *magic* commands at http://ipython.readthedocs.io/en/stable/interactive/magics.html"
      ]
    },
    {
      "cell_type": "markdown",
      "metadata": {
        "id": "HXZfmDNVFvaM"
      },
      "source": [
        "## Exercises"
      ]
    },
    {
      "cell_type": "markdown",
      "metadata": {
        "id": "MPP__AceFvaN"
      },
      "source": [
        "### Exercise  1###\n",
        "**I)** \n",
        "- Analyse the format of your data set. \n",
        "- Get the number of features and the number of data points. \n",
        "- Separate the original data into target (i.e. class) values and the rest of the features.  "
      ]
    },
    {
      "cell_type": "markdown",
      "metadata": {
        "id": "hxAQ9rFzFvaO"
      },
      "source": [
        "Numpy arrays store information intrinsic to the array itself and we can check it through its attributes.  "
      ]
    },
    {
      "cell_type": "code",
      "metadata": {
        "id": "PDcAwZwBFvaP",
        "outputId": "5f1d122c-8d5e-4abc-e783-39f0bda3543c"
      },
      "source": [
        "print('Dataset shape:', data.shape)\n",
        "print('Dataset has', data.shape[0],'data points and', data.shape[1], 'features.')\n",
        "print(\"Dataset number of array dimensions: \", data.ndim)\n",
        "print(\"Dataset number of elements: \", data.size)\n",
        "print(\"Dataset elements type:\", data.dtype)\n",
        "print(\"Dataset elements size:\", data.itemsize, \"bytes\")\n",
        "print(\"Dataset size:\", data.nbytes, \"bytes\")"
      ],
      "execution_count": null,
      "outputs": [
        {
          "output_type": "stream",
          "text": [
            "Dataset shape: (150, 5)\n",
            "Dataset has 150 data points and 5 features.\n",
            "Dataset number of array dimensions:  2\n",
            "Dataset number of elements:  750\n",
            "Dataset elements type: float64\n",
            "Dataset elements size: 8 bytes\n",
            "Dataset size: 6000 bytes\n"
          ],
          "name": "stdout"
        }
      ]
    },
    {
      "cell_type": "markdown",
      "metadata": {
        "id": "t6Am12ALFvaQ"
      },
      "source": [
        "More information at\n",
        "https://docs.scipy.org/doc/numpy/reference/arrays.ndarray.html#array-attributes"
      ]
    },
    {
      "cell_type": "markdown",
      "metadata": {
        "id": "ODRff4RBFvaQ"
      },
      "source": [
        "#### First glances into the data\n",
        "\n",
        "If we check the first 5 rows of dataset we can see that the target (i.e. class) is on the last column."
      ]
    },
    {
      "cell_type": "code",
      "metadata": {
        "id": "6icCDkkhFvaQ",
        "outputId": "71999e3e-a519-444c-bdc8-5b591f63a7cb"
      },
      "source": [
        "print(data[:5])"
      ],
      "execution_count": null,
      "outputs": [
        {
          "output_type": "stream",
          "text": [
            "[[5.1 3.5 1.4 0.2 1. ]\n",
            " [4.9 3.  1.4 0.2 1. ]\n",
            " [4.7 3.2 1.3 0.2 1. ]\n",
            " [4.6 3.1 1.5 0.2 1. ]\n",
            " [5.  3.6 1.4 0.2 1. ]]\n"
          ],
          "name": "stdout"
        }
      ]
    },
    {
      "cell_type": "code",
      "metadata": {
        "id": "6LEBvlnjFvaR"
      },
      "source": [
        "# Get class attribute\n",
        "data_class = data[:,-1].astype(int)\n",
        "\n",
        "# Remove class attribute from 'data'\n",
        "data = data[:,:-1]"
      ],
      "execution_count": null,
      "outputs": []
    },
    {
      "cell_type": "markdown",
      "metadata": {
        "id": "gq_YoIkrFvaR"
      },
      "source": [
        "**II)** \n",
        "- Construct a vector with the values of the second feature (‘Sepal Width’). \n",
        "- Plot a histogram of this feature values and interpret it.  "
      ]
    },
    {
      "cell_type": "code",
      "metadata": {
        "id": "2BY5on5JFvaR",
        "outputId": "8efaf187-1af4-4643-97d1-7086e3937435"
      },
      "source": [
        "ax = sns.distplot(data[:,1], # data for plotting\n",
        "             kde=False, # Whether to plot a gaussian kernel density estimate.\n",
        "             hist_kws=dict(edgecolor=\"k\"), # Add edge color to aid visualization\n",
        "             norm_hist = False); # ... \n",
        "\n",
        "# Properly label axis\n",
        "ax.set(xlabel='Sepal Width (cm)', \n",
        "       ylabel='Frequency');"
      ],
      "execution_count": null,
      "outputs": [
        {
          "output_type": "display_data",
          "data": {
            "image/png": "[encoded data removed]",
            "text/plain": [
              "<Figure size 432x288 with 1 Axes>"
            ]
          },
          "metadata": {
            "tags": [],
            "needs_background": "light"
          }
        }
      ]
    },
    {
      "cell_type": "markdown",
      "metadata": {
        "id": "v2GdTHLHFvaS"
      },
      "source": [
        "Seaborn's *distplot* returns an axis object in which we can manipulate the axis labels.  \n",
        "Seaborn's *distplot* at https://seaborn.pydata.org/generated/seaborn.distplot.html"
      ]
    },
    {
      "cell_type": "markdown",
      "metadata": {
        "id": "WFTLITP9FvaT"
      },
      "source": [
        "**III)** \n",
        "- Construct 2 plots of the feature 'Sepal Length' (1st feature)\n",
        "    + A histogram with 10  bins\n",
        "    + A histogram with  20  bins\n",
        "- Produce one more histogram of the whole dataset and plot it.  \n",
        "  \n",
        "  \n",
        "The simplest way to display several plots in the same figure is to use Matplotlib *subplots*.  \n",
        "*Subplots* returns an array of axis and we can pass each axis object to Seaborn to specify in which subplot we want to plot."
      ]
    },
    {
      "cell_type": "code",
      "metadata": {
        "id": "Xzf3zTF2FvaT",
        "outputId": "034961dc-c51d-46c9-cd0a-d41e3ff80882"
      },
      "source": [
        "fig, axs = plt.subplots(ncols=2, # Set the number of columns to split the figure in\n",
        "                        figsize=(16, 4)) # size of the whole figure\n",
        "\n",
        "sns.distplot(data[:,0], \n",
        "             ax=axs[0], # choose the subplot for the plot\n",
        "             kde=False, \n",
        "             hist_kws=dict(edgecolor=\"k\"), \n",
        "             norm_hist = False,\n",
        "             bins = 10) # choose the number of bins  \n",
        "axs[0].set(xlabel='Sepal Length (cm)', \n",
        "           ylabel='Frequency')\n",
        "\n",
        "sns.distplot(data[:,0], \n",
        "             ax=axs[1], \n",
        "             kde=False, \n",
        "             hist_kws=dict(edgecolor=\"k\"), \n",
        "             norm_hist = False, \n",
        "             bins = 20)\n",
        "axs[1].set(xlabel='Sepal Length (cm)', \n",
        "           ylabel='Frequency');"
      ],
      "execution_count": null,
      "outputs": [
        {
          "output_type": "display_data",
          "data": {
            "image/png": "[encoded data removed]",
            "text/plain": [
              "<Figure size 1152x288 with 2 Axes>"
            ]
          },
          "metadata": {
            "tags": [],
            "needs_background": "light"
          }
        }
      ]
    },
    {
      "cell_type": "markdown",
      "metadata": {
        "id": "Eg2aRuVpFvaU"
      },
      "source": [
        "If we pass the whole multidimensional array to *distplot*, it will create a side-by-side histogram of all of the variables."
      ]
    },
    {
      "cell_type": "code",
      "metadata": {
        "id": "CnT-YGfRFvaU",
        "outputId": "612cc058-4f0f-4da7-b5ee-6e078518f31e"
      },
      "source": [
        "ax = sns.distplot(data, \n",
        "                 kde=False, \n",
        "                 hist_kws=dict(color = ['#b3e2cd','#fdcdac','#cbd5e8','#f4cae4'], # Use http://colorbrewer2.org\n",
        "                               edgecolor=\"k\"), \n",
        "                 norm_hist = False,\n",
        "                 label=['Sepal Length','Sepal Width','Petal Length','Petal Width'])\n",
        "ax.set(xlabel='Centimeters', \n",
        "       ylabel='Frequency')\n",
        "\n",
        "plt.legend();"
      ],
      "execution_count": null,
      "outputs": [
        {
          "output_type": "display_data",
          "data": {
            "image/png": "[encoded data removed]",
            "text/plain": [
              "<Figure size 432x288 with 1 Axes>"
            ]
          },
          "metadata": {
            "tags": [],
            "needs_background": "light"
          }
        }
      ]
    },
    {
      "cell_type": "markdown",
      "metadata": {
        "id": "ljKfJWRGFvaV"
      },
      "source": [
        "Subplots with matplotlib at https://matplotlib.org/api/_as_gen/matplotlib.pyplot.subplots.html"
      ]
    },
    {
      "cell_type": "markdown",
      "metadata": {
        "id": "wGqJSaN3FvaV"
      },
      "source": [
        "**IV)**\n",
        "\n",
        "- Compute the mean and the standard deviation of your data for each feature."
      ]
    },
    {
      "cell_type": "code",
      "metadata": {
        "id": "_V1H0vwvFvaW",
        "outputId": "6ab12731-dc76-4317-96ec-7dd038e6a939"
      },
      "source": [
        "means = np.mean(data, axis=0)\n",
        "stds = np.std(data, axis=0)\n",
        "\n",
        "print('Mean:', np.round(means,3))\n",
        "print('Standard deviation:', np.round(stds,3))"
      ],
      "execution_count": null,
      "outputs": [
        {
          "output_type": "stream",
          "text": [
            "Mean: [5.843 3.057 3.758 1.199]\n",
            "Standard deviation: [0.825 0.434 1.759 0.76 ]\n"
          ],
          "name": "stdout"
        }
      ]
    },
    {
      "cell_type": "markdown",
      "metadata": {
        "id": "i5P9ObTbFvaW"
      },
      "source": [
        "Operations over numpy arrays https://docs.scipy.org/doc/numpy/reference/arrays.ndarray.html#array-methods"
      ]
    },
    {
      "cell_type": "markdown",
      "metadata": {
        "id": "ew7BxeRSFvaX"
      },
      "source": [
        "**V)**\n",
        "\n",
        "- Compute a scatter plot graphic of the first two features of the data.  "
      ]
    },
    {
      "cell_type": "code",
      "metadata": {
        "id": "ylcpQJq6FvaX",
        "outputId": "44a1eee6-7e86-4cd3-864a-cc68106e62e2"
      },
      "source": [
        "ax = sns.regplot(x=data[:,0], \n",
        "                 y=data[:,1], \n",
        "                 fit_reg=False, # By default, a linear regression fit is drawn\n",
        "                 scatter_kws={'alpha':0.3}) # Transparency \n",
        "ax.set(xlabel='Sepal Length (cm)', \n",
        "       ylabel='Sepal Width (cm)');"
      ],
      "execution_count": null,
      "outputs": [
        {
          "output_type": "display_data",
          "data": {
            "image/png": "[encoded data removed]",
            "text/plain": [
              "<Figure size 432x288 with 1 Axes>"
            ]
          },
          "metadata": {
            "tags": [],
            "needs_background": "light"
          }
        }
      ]
    },
    {
      "cell_type": "markdown",
      "metadata": {
        "id": "VZAyXlWZFvaY"
      },
      "source": [
        "Scatter plot  \n",
        "https://python-graph-gallery.com/40-basic-scatterplot-seaborn/\n",
        "\n",
        "Transparency indirectly allows to see the density of dots on each part of the scatterplot  \n",
        "https://python-graph-gallery.com/134-how-to-avoid-overplotting-with-python/"
      ]
    },
    {
      "cell_type": "markdown",
      "metadata": {
        "id": "6Yq55AlZFvaY"
      },
      "source": [
        "### Exercise  2 ### \n",
        "\n",
        "- Plot the complete data set by their two first features, using the class value to select the color.  \n"
      ]
    },
    {
      "cell_type": "markdown",
      "metadata": {
        "id": "7mkjf73sFvaZ"
      },
      "source": [
        "You can create a Pandas Dataframe using the numpy array and set the features names for each column in the data matrix. "
      ]
    },
    {
      "cell_type": "code",
      "metadata": {
        "id": "NmKn8j9DFvaa"
      },
      "source": [
        "column_names = ['Sepal Length','Sepal Width','Petal Length','Petal Width']\n",
        "df = pd.DataFrame(data, columns=[x.lower().replace(' ','_') for x in column_names])"
      ],
      "execution_count": null,
      "outputs": []
    },
    {
      "cell_type": "markdown",
      "metadata": {
        "id": "M1g3OcFWFvaa"
      },
      "source": [
        "We can also add the target class to the pandas dataframe which will make the plotting easier."
      ]
    },
    {
      "cell_type": "code",
      "metadata": {
        "id": "9_xayUNVFvaa"
      },
      "source": [
        "df['class'] = data_class"
      ],
      "execution_count": null,
      "outputs": []
    },
    {
      "cell_type": "code",
      "metadata": {
        "id": "p8T22nZ9Fvab",
        "outputId": "de37e607-80da-495c-f2cc-ceff615aaeaf"
      },
      "source": [
        "df.head()"
      ],
      "execution_count": null,
      "outputs": [
        {
          "output_type": "execute_result",
          "data": {
            "text/html": [
              "<div>\n",
              "<style scoped>\n",
              "    .dataframe tbody tr th:only-of-type {\n",
              "        vertical-align: middle;\n",
              "    }\n",
              "\n",
              "    .dataframe tbody tr th {\n",
              "        vertical-align: top;\n",
              "    }\n",
              "\n",
              "    .dataframe thead th {\n",
              "        text-align: right;\n",
              "    }\n",
              "</style>\n",
              "<table border=\"1\" class=\"dataframe\">\n",
              "  <thead>\n",
              "    <tr style=\"text-align: right;\">\n",
              "      <th></th>\n",
              "      <th>sepal_length</th>\n",
              "      <th>sepal_width</th>\n",
              "      <th>petal_length</th>\n",
              "      <th>petal_width</th>\n",
              "      <th>class</th>\n",
              "    </tr>\n",
              "  </thead>\n",
              "  <tbody>\n",
              "    <tr>\n",
              "      <th>0</th>\n",
              "      <td>5.1</td>\n",
              "      <td>3.5</td>\n",
              "      <td>1.4</td>\n",
              "      <td>0.2</td>\n",
              "      <td>1</td>\n",
              "    </tr>\n",
              "    <tr>\n",
              "      <th>1</th>\n",
              "      <td>4.9</td>\n",
              "      <td>3.0</td>\n",
              "      <td>1.4</td>\n",
              "      <td>0.2</td>\n",
              "      <td>1</td>\n",
              "    </tr>\n",
              "    <tr>\n",
              "      <th>2</th>\n",
              "      <td>4.7</td>\n",
              "      <td>3.2</td>\n",
              "      <td>1.3</td>\n",
              "      <td>0.2</td>\n",
              "      <td>1</td>\n",
              "    </tr>\n",
              "    <tr>\n",
              "      <th>3</th>\n",
              "      <td>4.6</td>\n",
              "      <td>3.1</td>\n",
              "      <td>1.5</td>\n",
              "      <td>0.2</td>\n",
              "      <td>1</td>\n",
              "    </tr>\n",
              "    <tr>\n",
              "      <th>4</th>\n",
              "      <td>5.0</td>\n",
              "      <td>3.6</td>\n",
              "      <td>1.4</td>\n",
              "      <td>0.2</td>\n",
              "      <td>1</td>\n",
              "    </tr>\n",
              "  </tbody>\n",
              "</table>\n",
              "</div>"
            ],
            "text/plain": [
              "   sepal_length  sepal_width  petal_length  petal_width  class\n",
              "0           5.1          3.5           1.4          0.2      1\n",
              "1           4.9          3.0           1.4          0.2      1\n",
              "2           4.7          3.2           1.3          0.2      1\n",
              "3           4.6          3.1           1.5          0.2      1\n",
              "4           5.0          3.6           1.4          0.2      1"
            ]
          },
          "metadata": {
            "tags": []
          },
          "execution_count": 15
        }
      ]
    },
    {
      "cell_type": "markdown",
      "metadata": {
        "id": "oXRQszvUFvac"
      },
      "source": [
        "df.dtypes"
      ]
    },
    {
      "cell_type": "code",
      "metadata": {
        "id": "f6m2DTYgFvad",
        "outputId": "15aee0d1-b759-4316-d1c4-cfc6ab4b5e59"
      },
      "source": [
        "df.shape"
      ],
      "execution_count": null,
      "outputs": [
        {
          "output_type": "execute_result",
          "data": {
            "text/plain": [
              "(150, 5)"
            ]
          },
          "metadata": {
            "tags": []
          },
          "execution_count": 16
        }
      ]
    },
    {
      "cell_type": "markdown",
      "metadata": {
        "id": "2XKMC3BLFvaf"
      },
      "source": [
        "With a Pandas Dataframe we can now use the *lmplot* method from Seaborn which allows to do a scatter plot and set a color to each data point according to another feature in the data.  \n",
        "https://python-graph-gallery.com/43-use-categorical-variable-to-color-scatterplot-seaborn/"
      ]
    },
    {
      "cell_type": "code",
      "metadata": {
        "id": "8tOftDsxFvaf",
        "outputId": "21dbd2dc-8b90-4b2d-a91f-3a86e4edd641"
      },
      "source": [
        "sns.lmplot(x=\"sepal_length\", \n",
        "           y=\"sepal_width\", \n",
        "           hue=\"class\", # Use the 'hue' argument to provide a factor variable\n",
        "           data=df,\n",
        "           fit_reg=False,\n",
        "           scatter_kws={'alpha':0.3}); "
      ],
      "execution_count": null,
      "outputs": [
        {
          "output_type": "display_data",
          "data": {
            "image/png": "[encoded data removed]",
            "text/plain": [
              "<Figure size 401.625x360 with 1 Axes>"
            ]
          },
          "metadata": {
            "tags": [],
            "needs_background": "light"
          }
        }
      ]
    },
    {
      "cell_type": "markdown",
      "metadata": {
        "id": "Jfg5Yle_Fvag"
      },
      "source": [
        "### Exercise  3### \n",
        "\n",
        "**I)** \n",
        "- Normalize the data set by z-score and by range. \n",
        "\n",
        "\n",
        "Recalling both normalization formulas we have:"
      ]
    },
    {
      "cell_type": "markdown",
      "metadata": {
        "id": "RZQ9fAHWFvag"
      },
      "source": [
        "$Z = \\frac{X-\\bar{X}}{S_X}, \\qquad\n",
        "Z = \\frac{X-\\min(X)}{\\max(X)-\\min(X)}$"
      ]
    },
    {
      "cell_type": "markdown",
      "metadata": {
        "id": "GmnT6hxzFvah"
      },
      "source": [
        "There are multiple ways to scale the data given the structures we are working with. \n",
        "You may consult common pre-defined functions available at  Scikit-Learn\n",
        " \n",
        "    http://scikit-learn.org/stable/modules/preprocessing.html#standardization-or-mean-removal-and-variance-scaling  \n"
      ]
    },
    {
      "cell_type": "code",
      "metadata": {
        "id": "DEf28L6qFvah"
      },
      "source": [
        "### 1.\n",
        "#1.1 Using the previously defined means and standard deviations\n",
        "# Normalize by z-score only the 1st feature\n",
        "zscores_sepal_length = (data[:,0] - means[0]) / stds[0]\n",
        "\n",
        "# Normalize by z-score all of the features\n",
        "z_scores = (data - means) / stds\n",
        "\n",
        "#1.2 Making use of numpy methods\n",
        "# Normalize by range all of the features\n",
        "z_range = (data - data.min(axis=0)) / data.ptp(axis=0) # Peak to peak (maximum - minimum) value along a given axis.\n",
        "\n",
        "\n",
        "### 2.\n",
        "df_zscores = (df - df.mean()) / df.std()\n",
        "df_z_range = (df - df.min()) / (df.max() - df.min()) # there is no \"Peak to peak\" method for Pandas Dataframes\n",
        "\n",
        "\n",
        "### 3.\n",
        "from sklearn import preprocessing\n",
        "\n",
        "zscore_scaler = preprocessing.StandardScaler().fit(data)\n",
        "z_scores = zscore_scaler.transform(data)\n",
        "\n",
        "zrange_scaler = preprocessing.MinMaxScaler().fit(data)\n",
        "z_range = zrange_scaler.transform(data)"
      ],
      "execution_count": null,
      "outputs": []
    },
    {
      "cell_type": "markdown",
      "metadata": {
        "id": "7h-GpUkfFvai"
      },
      "source": [
        "**II)** Compute a box‐plot graphic of your data before and after normalization. Compare the results."
      ]
    },
    {
      "cell_type": "markdown",
      "metadata": {
        "id": "8Jn8aXeDFvaj"
      },
      "source": [
        "To make a boxplot with all of the features there are at least two options.  \n",
        "1. Melt the dataframe (or numpy array) to one single column and add a second column specifying the name of the feature. Then apply boxplot by group.\n",
        "https://seaborn.pydata.org/generated/seaborn.boxplot.html\n",
        "2. You may use the Pandas Dataframe boxplot function. \n",
        "Pandas as several visualization methods to avoid systematic code repetition to intuitive data visualizations on a dataframe.  \n",
        "https://pandas.pydata.org/pandas-docs/stable/visualization.html\n"
      ]
    },
    {
      "cell_type": "code",
      "metadata": {
        "id": "ApH1j67IFvak",
        "outputId": "07f48845-0fb9-4ab6-88f3-cbc8199fb530"
      },
      "source": [
        "fig, axs = plt.subplots(ncols=3, \n",
        "                        figsize=(16, 4)) \n",
        "\n",
        "df.plot.box(ax=axs[0], # use the ax argument to specify the subplot\n",
        "            rot=60, # rotate the x axis by some degree, useful for long feature names\n",
        "            title='Raw') # set a title for each suplot to ease reading\n",
        "\n",
        "df_zscores.plot.box(ax=axs[1], rot=60, title='Z-scores')\n",
        "df_z_range.plot.box(ax=axs[2], rot=60, title='Range');"
      ],
      "execution_count": null,
      "outputs": [
        {
          "output_type": "display_data",
          "data": {
            "image/png": "[encoded data removed]",
            "text/plain": [
              "<Figure size 1152x288 with 3 Axes>"
            ]
          },
          "metadata": {
            "tags": [],
            "needs_background": "light"
          }
        }
      ]
    },
    {
      "cell_type": "code",
      "metadata": {
        "id": "Vn3KvI4WFval"
      },
      "source": [
        ""
      ],
      "execution_count": null,
      "outputs": []
    }
  ]
}